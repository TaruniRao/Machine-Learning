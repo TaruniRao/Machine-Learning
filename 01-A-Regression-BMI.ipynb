{
 "cells": [
  {
   "cell_type": "code",
   "execution_count": 1,
   "id": "4408bc15",
   "metadata": {},
   "outputs": [],
   "source": [
    "import pandas as pd\n",
    "import numpy as np \n",
    "import matplotlib.pyplot as plt \n",
    "import seaborn as sns\n",
    "%matplotlib inline\n",
    "\n",
    "# Ignore harmless warnings \n",
    "\n",
    "import warnings \n",
    "warnings.filterwarnings(\"ignore\")\n",
    "\n",
    "# Set to display all the columns in dataset\n",
    "\n",
    "pd.set_option(\"display.max_columns\", None)\n",
    "\n",
    "# Import psql to run queries \n",
    "\n",
    "import pandasql as psql"
   ]
  },
  {
   "cell_type": "code",
   "execution_count": 2,
   "id": "cead4c47",
   "metadata": {},
   "outputs": [
    {
     "name": "stdout",
     "output_type": "stream",
     "text": [
      "Requirement already satisfied: pandasql in c:\\users\\badda\\links\\anaconda\\lib\\site-packages (0.7.3)\n",
      "Requirement already satisfied: numpy in c:\\users\\badda\\links\\anaconda\\lib\\site-packages (from pandasql) (1.24.3)\n",
      "Requirement already satisfied: pandas in c:\\users\\badda\\links\\anaconda\\lib\\site-packages (from pandasql) (2.0.3)\n",
      "Requirement already satisfied: sqlalchemy in c:\\users\\badda\\links\\anaconda\\lib\\site-packages (from pandasql) (1.4.39)\n",
      "Requirement already satisfied: python-dateutil>=2.8.2 in c:\\users\\badda\\links\\anaconda\\lib\\site-packages (from pandas->pandasql) (2.8.2)\n",
      "Requirement already satisfied: pytz>=2020.1 in c:\\users\\badda\\links\\anaconda\\lib\\site-packages (from pandas->pandasql) (2023.3.post1)\n",
      "Requirement already satisfied: tzdata>=2022.1 in c:\\users\\badda\\links\\anaconda\\lib\\site-packages (from pandas->pandasql) (2023.3)\n",
      "Requirement already satisfied: greenlet!=0.4.17 in c:\\users\\badda\\links\\anaconda\\lib\\site-packages (from sqlalchemy->pandasql) (2.0.1)\n",
      "Requirement already satisfied: six>=1.5 in c:\\users\\badda\\links\\anaconda\\lib\\site-packages (from python-dateutil>=2.8.2->pandas->pandasql) (1.16.0)\n",
      "Note: you may need to restart the kernel to use updated packages.\n"
     ]
    }
   ],
   "source": [
    "pip install pandasql"
   ]
  },
  {
   "cell_type": "code",
   "execution_count": 3,
   "id": "28d21964",
   "metadata": {},
   "outputs": [
    {
     "data": {
      "text/html": [
       "<div>\n",
       "<style scoped>\n",
       "    .dataframe tbody tr th:only-of-type {\n",
       "        vertical-align: middle;\n",
       "    }\n",
       "\n",
       "    .dataframe tbody tr th {\n",
       "        vertical-align: top;\n",
       "    }\n",
       "\n",
       "    .dataframe thead th {\n",
       "        text-align: right;\n",
       "    }\n",
       "</style>\n",
       "<table border=\"1\" class=\"dataframe\">\n",
       "  <thead>\n",
       "    <tr style=\"text-align: right;\">\n",
       "      <th></th>\n",
       "      <th>Height_M</th>\n",
       "      <th>Weight_kg</th>\n",
       "      <th>Fat_age</th>\n",
       "      <th>BMI</th>\n",
       "    </tr>\n",
       "  </thead>\n",
       "  <tbody>\n",
       "    <tr>\n",
       "      <th>0</th>\n",
       "      <td>1.60</td>\n",
       "      <td>49.44</td>\n",
       "      <td>23.9</td>\n",
       "      <td>19.31</td>\n",
       "    </tr>\n",
       "    <tr>\n",
       "      <th>1</th>\n",
       "      <td>1.65</td>\n",
       "      <td>62.60</td>\n",
       "      <td>28.8</td>\n",
       "      <td>22.96</td>\n",
       "    </tr>\n",
       "    <tr>\n",
       "      <th>2</th>\n",
       "      <td>1.65</td>\n",
       "      <td>75.75</td>\n",
       "      <td>32.4</td>\n",
       "      <td>27.79</td>\n",
       "    </tr>\n",
       "    <tr>\n",
       "      <th>3</th>\n",
       "      <td>1.53</td>\n",
       "      <td>48.99</td>\n",
       "      <td>25.8</td>\n",
       "      <td>20.92</td>\n",
       "    </tr>\n",
       "    <tr>\n",
       "      <th>4</th>\n",
       "      <td>1.45</td>\n",
       "      <td>43.09</td>\n",
       "      <td>22.5</td>\n",
       "      <td>20.38</td>\n",
       "    </tr>\n",
       "  </tbody>\n",
       "</table>\n",
       "</div>"
      ],
      "text/plain": [
       "   Height_M  Weight_kg  Fat_age    BMI\n",
       "0      1.60      49.44     23.9  19.31\n",
       "1      1.65      62.60     28.8  22.96\n",
       "2      1.65      75.75     32.4  27.79\n",
       "3      1.53      48.99     25.8  20.92\n",
       "4      1.45      43.09     22.5  20.38"
      ]
     },
     "execution_count": 3,
     "metadata": {},
     "output_type": "execute_result"
    }
   ],
   "source": [
    "# Load the BMI dataset\n",
    "\n",
    "BMI_Data = pd.read_csv(r\"C:\\Users\\badda\\Downloads\\BMI_Analysis_V1.1 (1).csv\", header=0)\n",
    "\n",
    "# Copy the file to back-up file\n",
    "\n",
    "BMI_Data_bk = BMI_Data.copy()\n",
    "\n",
    "# Display first 5 records\n",
    "\n",
    "BMI_Data.head()"
   ]
  },
  {
   "cell_type": "code",
   "execution_count": 4,
   "id": "bfefb5c3",
   "metadata": {},
   "outputs": [
    {
     "data": {
      "text/html": [
       "<div>\n",
       "<style scoped>\n",
       "    .dataframe tbody tr th:only-of-type {\n",
       "        vertical-align: middle;\n",
       "    }\n",
       "\n",
       "    .dataframe tbody tr th {\n",
       "        vertical-align: top;\n",
       "    }\n",
       "\n",
       "    .dataframe thead th {\n",
       "        text-align: right;\n",
       "    }\n",
       "</style>\n",
       "<table border=\"1\" class=\"dataframe\">\n",
       "  <thead>\n",
       "    <tr style=\"text-align: right;\">\n",
       "      <th></th>\n",
       "      <th>Height_M</th>\n",
       "      <th>Weight_kg</th>\n",
       "      <th>Fat_age</th>\n",
       "      <th>BMI</th>\n",
       "    </tr>\n",
       "  </thead>\n",
       "  <tbody>\n",
       "    <tr>\n",
       "      <th>87</th>\n",
       "      <td>1.49</td>\n",
       "      <td>39.01</td>\n",
       "      <td>23.3</td>\n",
       "      <td>17.52</td>\n",
       "    </tr>\n",
       "    <tr>\n",
       "      <th>88</th>\n",
       "      <td>1.60</td>\n",
       "      <td>41.28</td>\n",
       "      <td>20.1</td>\n",
       "      <td>16.12</td>\n",
       "    </tr>\n",
       "    <tr>\n",
       "      <th>89</th>\n",
       "      <td>1.42</td>\n",
       "      <td>38.10</td>\n",
       "      <td>30.3</td>\n",
       "      <td>18.83</td>\n",
       "    </tr>\n",
       "    <tr>\n",
       "      <th>90</th>\n",
       "      <td>1.40</td>\n",
       "      <td>30.16</td>\n",
       "      <td>20.6</td>\n",
       "      <td>15.46</td>\n",
       "    </tr>\n",
       "    <tr>\n",
       "      <th>91</th>\n",
       "      <td>1.45</td>\n",
       "      <td>38.56</td>\n",
       "      <td>26.0</td>\n",
       "      <td>18.39</td>\n",
       "    </tr>\n",
       "  </tbody>\n",
       "</table>\n",
       "</div>"
      ],
      "text/plain": [
       "    Height_M  Weight_kg  Fat_age    BMI\n",
       "87      1.49      39.01     23.3  17.52\n",
       "88      1.60      41.28     20.1  16.12\n",
       "89      1.42      38.10     30.3  18.83\n",
       "90      1.40      30.16     20.6  15.46\n",
       "91      1.45      38.56     26.0  18.39"
      ]
     },
     "execution_count": 4,
     "metadata": {},
     "output_type": "execute_result"
    }
   ],
   "source": [
    "# Display last 5 records\n",
    "\n",
    "BMI_Data.tail()"
   ]
  },
  {
   "cell_type": "code",
   "execution_count": 5,
   "id": "949d436d",
   "metadata": {},
   "outputs": [
    {
     "data": {
      "text/html": [
       "<div>\n",
       "<style scoped>\n",
       "    .dataframe tbody tr th:only-of-type {\n",
       "        vertical-align: middle;\n",
       "    }\n",
       "\n",
       "    .dataframe tbody tr th {\n",
       "        vertical-align: top;\n",
       "    }\n",
       "\n",
       "    .dataframe thead th {\n",
       "        text-align: right;\n",
       "    }\n",
       "</style>\n",
       "<table border=\"1\" class=\"dataframe\">\n",
       "  <thead>\n",
       "    <tr style=\"text-align: right;\">\n",
       "      <th></th>\n",
       "      <th>Height_M</th>\n",
       "      <th>Weight_kg</th>\n",
       "      <th>Fat_age</th>\n",
       "      <th>BMI</th>\n",
       "    </tr>\n",
       "  </thead>\n",
       "  <tbody>\n",
       "    <tr>\n",
       "      <th>75</th>\n",
       "      <td>1.50</td>\n",
       "      <td>46.95</td>\n",
       "      <td>30.2</td>\n",
       "      <td>20.73</td>\n",
       "    </tr>\n",
       "    <tr>\n",
       "      <th>74</th>\n",
       "      <td>1.42</td>\n",
       "      <td>38.78</td>\n",
       "      <td>26.9</td>\n",
       "      <td>19.17</td>\n",
       "    </tr>\n",
       "    <tr>\n",
       "      <th>15</th>\n",
       "      <td>1.52</td>\n",
       "      <td>62.37</td>\n",
       "      <td>37.9</td>\n",
       "      <td>26.85</td>\n",
       "    </tr>\n",
       "    <tr>\n",
       "      <th>9</th>\n",
       "      <td>1.48</td>\n",
       "      <td>44.45</td>\n",
       "      <td>26.4</td>\n",
       "      <td>20.31</td>\n",
       "    </tr>\n",
       "    <tr>\n",
       "      <th>63</th>\n",
       "      <td>1.65</td>\n",
       "      <td>81.99</td>\n",
       "      <td>35.9</td>\n",
       "      <td>30.08</td>\n",
       "    </tr>\n",
       "  </tbody>\n",
       "</table>\n",
       "</div>"
      ],
      "text/plain": [
       "    Height_M  Weight_kg  Fat_age    BMI\n",
       "75      1.50      46.95     30.2  20.73\n",
       "74      1.42      38.78     26.9  19.17\n",
       "15      1.52      62.37     37.9  26.85\n",
       "9       1.48      44.45     26.4  20.31\n",
       "63      1.65      81.99     35.9  30.08"
      ]
     },
     "execution_count": 5,
     "metadata": {},
     "output_type": "execute_result"
    }
   ],
   "source": [
    "# display the records randomly\n",
    "\n",
    "BMI_Data.sample(5)"
   ]
  },
  {
   "cell_type": "code",
   "execution_count": 6,
   "id": "16312c8d",
   "metadata": {},
   "outputs": [
    {
     "data": {
      "text/plain": [
       "(92, 4)"
      ]
     },
     "execution_count": 6,
     "metadata": {},
     "output_type": "execute_result"
    }
   ],
   "source": [
    "# Display the size of the dataset\n",
    "\n",
    "BMI_Data.shape"
   ]
  },
  {
   "cell_type": "code",
   "execution_count": 7,
   "id": "ea6fb244",
   "metadata": {},
   "outputs": [
    {
     "name": "stdout",
     "output_type": "stream",
     "text": [
      "<class 'pandas.core.frame.DataFrame'>\n",
      "RangeIndex: 92 entries, 0 to 91\n",
      "Data columns (total 4 columns):\n",
      " #   Column     Non-Null Count  Dtype  \n",
      "---  ------     --------------  -----  \n",
      " 0   Height_M   92 non-null     float64\n",
      " 1   Weight_kg  92 non-null     float64\n",
      " 2   Fat_age    92 non-null     float64\n",
      " 3   BMI        92 non-null     float64\n",
      "dtypes: float64(4)\n",
      "memory usage: 3.0 KB\n"
     ]
    }
   ],
   "source": [
    "# Display the dataset information\n",
    "\n",
    "BMI_Data.info()"
   ]
  },
  {
   "cell_type": "code",
   "execution_count": 8,
   "id": "b1f17d34",
   "metadata": {},
   "outputs": [
    {
     "data": {
      "text/html": [
       "<div>\n",
       "<style scoped>\n",
       "    .dataframe tbody tr th:only-of-type {\n",
       "        vertical-align: middle;\n",
       "    }\n",
       "\n",
       "    .dataframe tbody tr th {\n",
       "        vertical-align: top;\n",
       "    }\n",
       "\n",
       "    .dataframe thead th {\n",
       "        text-align: right;\n",
       "    }\n",
       "</style>\n",
       "<table border=\"1\" class=\"dataframe\">\n",
       "  <thead>\n",
       "    <tr style=\"text-align: right;\">\n",
       "      <th></th>\n",
       "      <th>count</th>\n",
       "      <th>mean</th>\n",
       "      <th>std</th>\n",
       "      <th>min</th>\n",
       "      <th>25%</th>\n",
       "      <th>50%</th>\n",
       "      <th>75%</th>\n",
       "      <th>max</th>\n",
       "    </tr>\n",
       "  </thead>\n",
       "  <tbody>\n",
       "    <tr>\n",
       "      <th>Height_M</th>\n",
       "      <td>92.0</td>\n",
       "      <td>1.511522</td>\n",
       "      <td>0.074035</td>\n",
       "      <td>1.33</td>\n",
       "      <td>1.4600</td>\n",
       "      <td>1.500</td>\n",
       "      <td>1.570</td>\n",
       "      <td>1.66</td>\n",
       "    </tr>\n",
       "    <tr>\n",
       "      <th>Weight_kg</th>\n",
       "      <td>92.0</td>\n",
       "      <td>47.865000</td>\n",
       "      <td>13.077016</td>\n",
       "      <td>29.26</td>\n",
       "      <td>38.9525</td>\n",
       "      <td>45.475</td>\n",
       "      <td>52.705</td>\n",
       "      <td>87.54</td>\n",
       "    </tr>\n",
       "    <tr>\n",
       "      <th>Fat_age</th>\n",
       "      <td>92.0</td>\n",
       "      <td>26.961957</td>\n",
       "      <td>7.142888</td>\n",
       "      <td>15.60</td>\n",
       "      <td>21.0750</td>\n",
       "      <td>25.500</td>\n",
       "      <td>31.975</td>\n",
       "      <td>46.00</td>\n",
       "    </tr>\n",
       "    <tr>\n",
       "      <th>BMI</th>\n",
       "      <td>92.0</td>\n",
       "      <td>20.705435</td>\n",
       "      <td>4.325066</td>\n",
       "      <td>14.99</td>\n",
       "      <td>17.7075</td>\n",
       "      <td>19.480</td>\n",
       "      <td>22.735</td>\n",
       "      <td>34.46</td>\n",
       "    </tr>\n",
       "  </tbody>\n",
       "</table>\n",
       "</div>"
      ],
      "text/plain": [
       "           count       mean        std    min      25%     50%     75%    max\n",
       "Height_M    92.0   1.511522   0.074035   1.33   1.4600   1.500   1.570   1.66\n",
       "Weight_kg   92.0  47.865000  13.077016  29.26  38.9525  45.475  52.705  87.54\n",
       "Fat_age     92.0  26.961957   7.142888  15.60  21.0750  25.500  31.975  46.00\n",
       "BMI         92.0  20.705435   4.325066  14.99  17.7075  19.480  22.735  34.46"
      ]
     },
     "execution_count": 8,
     "metadata": {},
     "output_type": "execute_result"
    }
   ],
   "source": [
    "# Display Descriptive Statistics\n",
    "\n",
    "BMI_Data.describe().T"
   ]
  },
  {
   "cell_type": "code",
   "execution_count": 9,
   "id": "d77a111e",
   "metadata": {},
   "outputs": [
    {
     "data": {
      "text/plain": [
       "Index(['Height_M', 'Weight_kg', 'Fat_age', 'BMI'], dtype='object')"
      ]
     },
     "execution_count": 9,
     "metadata": {},
     "output_type": "execute_result"
    }
   ],
   "source": [
    "# Display the columns in BMI dataset\n",
    "\n",
    "BMI_Data.columns"
   ]
  },
  {
   "cell_type": "code",
   "execution_count": 10,
   "id": "e7450c5d",
   "metadata": {},
   "outputs": [],
   "source": [
    "# Prepare cols1 for scaling     #scalling to make the variables in common scale/normalisation of data\n",
    "\n",
    "cols1 = ['Height_M', 'Weight_kg', 'Fat_age']"
   ]
  },
  {
   "cell_type": "code",
   "execution_count": 11,
   "id": "cf727bb1",
   "metadata": {},
   "outputs": [],
   "source": [
    "# Identify the independent and Target variables\n",
    "\n",
    "IndepVar = []\n",
    "for col in BMI_Data.columns:\n",
    "    if col != 'BMI':\n",
    "        IndepVar.append(col)\n",
    "\n",
    "TargetVar = 'BMI'\n",
    "\n",
    "x = BMI_Data[IndepVar]\n",
    "y = BMI_Data[TargetVar]"
   ]
  },
  {
   "cell_type": "code",
   "execution_count": 12,
   "id": "defc3818",
   "metadata": {},
   "outputs": [
    {
     "data": {
      "text/html": [
       "<div>\n",
       "<style scoped>\n",
       "    .dataframe tbody tr th:only-of-type {\n",
       "        vertical-align: middle;\n",
       "    }\n",
       "\n",
       "    .dataframe tbody tr th {\n",
       "        vertical-align: top;\n",
       "    }\n",
       "\n",
       "    .dataframe thead th {\n",
       "        text-align: right;\n",
       "    }\n",
       "</style>\n",
       "<table border=\"1\" class=\"dataframe\">\n",
       "  <thead>\n",
       "    <tr style=\"text-align: right;\">\n",
       "      <th></th>\n",
       "      <th>Height_M</th>\n",
       "      <th>Weight_kg</th>\n",
       "      <th>Fat_age</th>\n",
       "    </tr>\n",
       "  </thead>\n",
       "  <tbody>\n",
       "    <tr>\n",
       "      <th>0</th>\n",
       "      <td>1.60</td>\n",
       "      <td>49.44</td>\n",
       "      <td>23.9</td>\n",
       "    </tr>\n",
       "    <tr>\n",
       "      <th>1</th>\n",
       "      <td>1.65</td>\n",
       "      <td>62.60</td>\n",
       "      <td>28.8</td>\n",
       "    </tr>\n",
       "    <tr>\n",
       "      <th>2</th>\n",
       "      <td>1.65</td>\n",
       "      <td>75.75</td>\n",
       "      <td>32.4</td>\n",
       "    </tr>\n",
       "    <tr>\n",
       "      <th>3</th>\n",
       "      <td>1.53</td>\n",
       "      <td>48.99</td>\n",
       "      <td>25.8</td>\n",
       "    </tr>\n",
       "    <tr>\n",
       "      <th>4</th>\n",
       "      <td>1.45</td>\n",
       "      <td>43.09</td>\n",
       "      <td>22.5</td>\n",
       "    </tr>\n",
       "  </tbody>\n",
       "</table>\n",
       "</div>"
      ],
      "text/plain": [
       "   Height_M  Weight_kg  Fat_age\n",
       "0      1.60      49.44     23.9\n",
       "1      1.65      62.60     28.8\n",
       "2      1.65      75.75     32.4\n",
       "3      1.53      48.99     25.8\n",
       "4      1.45      43.09     22.5"
      ]
     },
     "execution_count": 12,
     "metadata": {},
     "output_type": "execute_result"
    }
   ],
   "source": [
    "x.head()"
   ]
  },
  {
   "cell_type": "code",
   "execution_count": 13,
   "id": "e4a3fc52",
   "metadata": {},
   "outputs": [
    {
     "data": {
      "text/plain": [
       "0    19.31\n",
       "1    22.96\n",
       "2    27.79\n",
       "3    20.92\n",
       "4    20.38\n",
       "Name: BMI, dtype: float64"
      ]
     },
     "execution_count": 13,
     "metadata": {},
     "output_type": "execute_result"
    }
   ],
   "source": [
    "y.head()"
   ]
  },
  {
   "cell_type": "code",
   "execution_count": 14,
   "id": "91035bd5",
   "metadata": {},
   "outputs": [
    {
     "data": {
      "text/plain": [
       "((64, 3), (64,), (28, 3), (28,))"
      ]
     },
     "execution_count": 14,
     "metadata": {},
     "output_type": "execute_result"
    }
   ],
   "source": [
    "# Split the data into train and test\n",
    "\n",
    "from sklearn.model_selection import train_test_split \n",
    "\n",
    "x_train, x_test, y_train, y_test = train_test_split(x, y, test_size=0.3, random_state=143)\n",
    "\n",
    "# Display the shape of the train_data and test_data\n",
    "\n",
    "x_train.shape, y_train.shape, x_test.shape, y_test.shape"
   ]
  },
  {
   "cell_type": "code",
   "execution_count": 15,
   "id": "3ca9d7f5",
   "metadata": {},
   "outputs": [],
   "source": [
    "# Scaling the features by using MinMaxScaler\n",
    "\n",
    "from sklearn.preprocessing import MinMaxScaler\n",
    "\n",
    "mmscaler = MinMaxScaler(feature_range=(0, 1))   #normalise the data in 0 to 1 range\n",
    "\n",
    "x_train[cols1] = mmscaler.fit_transform(x_train[cols1])\n",
    "x_train = pd.DataFrame(x_train)\n",
    "\n",
    "x_test[cols1] = mmscaler.fit_transform(x_test[cols1])\n",
    "x_test = pd.DataFrame(x_test)\n",
    "#cols1 = ['Height_M', 'Weight_kg', 'Fat_age']"
   ]
  },
  {
   "cell_type": "code",
   "execution_count": 16,
   "id": "59e209dd",
   "metadata": {},
   "outputs": [
    {
     "data": {
      "text/html": [
       "<div>\n",
       "<style scoped>\n",
       "    .dataframe tbody tr th:only-of-type {\n",
       "        vertical-align: middle;\n",
       "    }\n",
       "\n",
       "    .dataframe tbody tr th {\n",
       "        vertical-align: top;\n",
       "    }\n",
       "\n",
       "    .dataframe thead th {\n",
       "        text-align: right;\n",
       "    }\n",
       "</style>\n",
       "<table border=\"1\" class=\"dataframe\">\n",
       "  <thead>\n",
       "    <tr style=\"text-align: right;\">\n",
       "      <th></th>\n",
       "      <th>Height_M</th>\n",
       "      <th>Weight_kg</th>\n",
       "      <th>Fat_age</th>\n",
       "    </tr>\n",
       "  </thead>\n",
       "  <tbody>\n",
       "    <tr>\n",
       "      <th>64</th>\n",
       "      <td>0.580645</td>\n",
       "      <td>0.433669</td>\n",
       "      <td>0.680921</td>\n",
       "    </tr>\n",
       "    <tr>\n",
       "      <th>36</th>\n",
       "      <td>0.225806</td>\n",
       "      <td>0.014456</td>\n",
       "      <td>0.049342</td>\n",
       "    </tr>\n",
       "    <tr>\n",
       "      <th>14</th>\n",
       "      <td>0.354839</td>\n",
       "      <td>0.261299</td>\n",
       "      <td>0.203947</td>\n",
       "    </tr>\n",
       "    <tr>\n",
       "      <th>63</th>\n",
       "      <td>0.967742</td>\n",
       "      <td>0.964867</td>\n",
       "      <td>0.667763</td>\n",
       "    </tr>\n",
       "    <tr>\n",
       "      <th>54</th>\n",
       "      <td>0.935484</td>\n",
       "      <td>0.879780</td>\n",
       "      <td>0.875000</td>\n",
       "    </tr>\n",
       "  </tbody>\n",
       "</table>\n",
       "</div>"
      ],
      "text/plain": [
       "    Height_M  Weight_kg   Fat_age\n",
       "64  0.580645   0.433669  0.680921\n",
       "36  0.225806   0.014456  0.049342\n",
       "14  0.354839   0.261299  0.203947\n",
       "63  0.967742   0.964867  0.667763\n",
       "54  0.935484   0.879780  0.875000"
      ]
     },
     "execution_count": 16,
     "metadata": {},
     "output_type": "execute_result"
    }
   ],
   "source": [
    "x_train.head()"
   ]
  },
  {
   "cell_type": "code",
   "execution_count": 17,
   "id": "922c8e94",
   "metadata": {},
   "outputs": [
    {
     "data": {
      "text/html": [
       "<div>\n",
       "<style scoped>\n",
       "    .dataframe tbody tr th:only-of-type {\n",
       "        vertical-align: middle;\n",
       "    }\n",
       "\n",
       "    .dataframe tbody tr th {\n",
       "        vertical-align: top;\n",
       "    }\n",
       "\n",
       "    .dataframe thead th {\n",
       "        text-align: right;\n",
       "    }\n",
       "</style>\n",
       "<table border=\"1\" class=\"dataframe\">\n",
       "  <thead>\n",
       "    <tr style=\"text-align: right;\">\n",
       "      <th></th>\n",
       "      <th>Height_M</th>\n",
       "      <th>Weight_kg</th>\n",
       "      <th>Fat_age</th>\n",
       "    </tr>\n",
       "  </thead>\n",
       "  <tbody>\n",
       "    <tr>\n",
       "      <th>41</th>\n",
       "      <td>0.363636</td>\n",
       "      <td>0.043569</td>\n",
       "      <td>0.026087</td>\n",
       "    </tr>\n",
       "    <tr>\n",
       "      <th>5</th>\n",
       "      <td>0.848485</td>\n",
       "      <td>0.391426</td>\n",
       "      <td>0.200000</td>\n",
       "    </tr>\n",
       "    <tr>\n",
       "      <th>86</th>\n",
       "      <td>0.484848</td>\n",
       "      <td>0.199721</td>\n",
       "      <td>0.304348</td>\n",
       "    </tr>\n",
       "    <tr>\n",
       "      <th>30</th>\n",
       "      <td>0.393939</td>\n",
       "      <td>0.138376</td>\n",
       "      <td>0.008696</td>\n",
       "    </tr>\n",
       "    <tr>\n",
       "      <th>56</th>\n",
       "      <td>0.787879</td>\n",
       "      <td>1.000000</td>\n",
       "      <td>0.891304</td>\n",
       "    </tr>\n",
       "  </tbody>\n",
       "</table>\n",
       "</div>"
      ],
      "text/plain": [
       "    Height_M  Weight_kg   Fat_age\n",
       "41  0.363636   0.043569  0.026087\n",
       "5   0.848485   0.391426  0.200000\n",
       "86  0.484848   0.199721  0.304348\n",
       "30  0.393939   0.138376  0.008696\n",
       "56  0.787879   1.000000  0.891304"
      ]
     },
     "execution_count": 17,
     "metadata": {},
     "output_type": "execute_result"
    }
   ],
   "source": [
    "x_test.head()"
   ]
  },
  {
   "cell_type": "markdown",
   "id": "043e0efc",
   "metadata": {},
   "source": [
    "# Multiple Regression Algorithm"
   ]
  },
  {
   "cell_type": "code",
   "execution_count": 18,
   "id": "7ceb6cf9",
   "metadata": {},
   "outputs": [
    {
     "name": "stdout",
     "output_type": "stream",
     "text": [
      "Mean Absolute Error (MAE): 0.932\n",
      "Mean Squared Error (MSE): 1.004\n",
      "Root Mean Squared Error (RMSE): 1.002\n",
      "R2_score: 0.943735\n",
      "Mean Absolute Percentage Error (MAPE): 4.533 %\n",
      "Adj R Square:  0.941817\n"
     ]
    }
   ],
   "source": [
    "# Build the multi regression model\n",
    "\n",
    "from sklearn.linear_model import LinearRegression  \n",
    "\n",
    "# Create object for the model\n",
    "\n",
    "ModelMLR = LinearRegression()\n",
    "#ModelMLR = LinearRegression(fit_intercept=True, copy_X=True, n_jobs=None, positive=False)                   \n",
    "\n",
    "# Train the model with training data\n",
    "\n",
    "ModelMLR.fit(x_train, y_train)\n",
    "\n",
    "# Predict the model with test dataset\n",
    "\n",
    "y_pred = ModelMLR.predict(x_test)\n",
    "\n",
    "# Evaluation metrics for Regression analysis\n",
    "\n",
    "from sklearn import metrics\n",
    "\n",
    "print('Mean Absolute Error (MAE):', round(metrics.mean_absolute_error(y_test, y_pred),3))  \n",
    "print('Mean Squared Error (MSE):', round(metrics.mean_squared_error(y_test, y_pred),3))  \n",
    "print('Root Mean Squared Error (RMSE):', round(np.sqrt(metrics.mean_squared_error(y_test, y_pred)),3))\n",
    "print('R2_score:', round(metrics.r2_score(y_test, y_pred),6))\n",
    "#print('Root Mean Squared Log Error (RMSLE):', round(np.log(np.sqrt(metrics.mean_squared_error(y_test, y_pred))),3))\n",
    "\n",
    "# Define the function to calculate the MAPE - Mean Absolute Percentage Error\n",
    "\n",
    "def MAPE (y_test, y_pred): \n",
    "    y_test, y_pred = np.array(y_test), np.array(y_pred)\n",
    "    return np.mean(np.abs((y_test - y_pred) / y_test)) * 100\n",
    "\n",
    "# Evaluation of MAPE \n",
    "\n",
    "result = MAPE(y_test, y_pred)\n",
    "print('Mean Absolute Percentage Error (MAPE):', round(result, 3), '%')\n",
    "\n",
    "# Calculate Adjusted R squared values \n",
    "\n",
    "r_squared = round(metrics.r2_score(y_test, y_pred),6)\n",
    "adjusted_r_squared = round(1 - (1-r_squared)*(len(y)-1)/(len(y)-x.shape[1]-1),6)\n",
    "print('Adj R Square: ', adjusted_r_squared)\n"
   ]
  },
  {
   "cell_type": "code",
   "execution_count": 19,
   "id": "d9417f6d",
   "metadata": {},
   "outputs": [
    {
     "data": {
      "text/html": [
       "<div>\n",
       "<style scoped>\n",
       "    .dataframe tbody tr th:only-of-type {\n",
       "        vertical-align: middle;\n",
       "    }\n",
       "\n",
       "    .dataframe tbody tr th {\n",
       "        vertical-align: top;\n",
       "    }\n",
       "\n",
       "    .dataframe thead th {\n",
       "        text-align: right;\n",
       "    }\n",
       "</style>\n",
       "<table border=\"1\" class=\"dataframe\">\n",
       "  <thead>\n",
       "    <tr style=\"text-align: right;\">\n",
       "      <th></th>\n",
       "      <th>Height_M</th>\n",
       "      <th>Weight_kg</th>\n",
       "      <th>Fat_age</th>\n",
       "      <th>BMI</th>\n",
       "      <th>BMI_A</th>\n",
       "      <th>BMI_P</th>\n",
       "    </tr>\n",
       "  </thead>\n",
       "  <tbody>\n",
       "    <tr>\n",
       "      <th>35</th>\n",
       "      <td>1.63</td>\n",
       "      <td>47.17</td>\n",
       "      <td>28.8</td>\n",
       "      <td>17.71</td>\n",
       "      <td>17.71</td>\n",
       "      <td>17.088247</td>\n",
       "    </tr>\n",
       "    <tr>\n",
       "      <th>65</th>\n",
       "      <td>1.59</td>\n",
       "      <td>61.23</td>\n",
       "      <td>33.0</td>\n",
       "      <td>24.30</td>\n",
       "      <td>24.30</td>\n",
       "      <td>23.320095</td>\n",
       "    </tr>\n",
       "    <tr>\n",
       "      <th>30</th>\n",
       "      <td>1.46</td>\n",
       "      <td>38.10</td>\n",
       "      <td>17.7</td>\n",
       "      <td>17.86</td>\n",
       "      <td>17.86</td>\n",
       "      <td>16.943678</td>\n",
       "    </tr>\n",
       "    <tr>\n",
       "      <th>66</th>\n",
       "      <td>1.53</td>\n",
       "      <td>73.37</td>\n",
       "      <td>40.5</td>\n",
       "      <td>31.33</td>\n",
       "      <td>31.33</td>\n",
       "      <td>29.450627</td>\n",
       "    </tr>\n",
       "    <tr>\n",
       "      <th>86</th>\n",
       "      <td>1.49</td>\n",
       "      <td>41.62</td>\n",
       "      <td>24.5</td>\n",
       "      <td>18.69</td>\n",
       "      <td>18.69</td>\n",
       "      <td>17.911498</td>\n",
       "    </tr>\n",
       "  </tbody>\n",
       "</table>\n",
       "</div>"
      ],
      "text/plain": [
       "    Height_M  Weight_kg  Fat_age    BMI  BMI_A      BMI_P\n",
       "35      1.63      47.17     28.8  17.71  17.71  17.088247\n",
       "65      1.59      61.23     33.0  24.30  24.30  23.320095\n",
       "30      1.46      38.10     17.7  17.86  17.86  16.943678\n",
       "66      1.53      73.37     40.5  31.33  31.33  29.450627\n",
       "86      1.49      41.62     24.5  18.69  18.69  17.911498"
      ]
     },
     "execution_count": 19,
     "metadata": {},
     "output_type": "execute_result"
    }
   ],
   "source": [
    "Results = pd.DataFrame({'BMI_A':y_test, 'BMI_P':y_pred})\n",
    "\n",
    "# Merge two Dataframes on index of both the dataframes\n",
    "\n",
    "ResultsFinal = BMI_Data_bk.merge(Results, left_index=True, right_index=True)\n",
    "ResultsFinal.sample(5)"
   ]
  },
  {
   "cell_type": "code",
   "execution_count": 20,
   "id": "7fad99d7",
   "metadata": {},
   "outputs": [],
   "source": [
    "# Compare with all Regression / Regressors"
   ]
  },
  {
   "cell_type": "code",
   "execution_count": 21,
   "id": "1a950b10",
   "metadata": {},
   "outputs": [
    {
     "data": {
      "text/html": [
       "<div>\n",
       "<style scoped>\n",
       "    .dataframe tbody tr th:only-of-type {\n",
       "        vertical-align: middle;\n",
       "    }\n",
       "\n",
       "    .dataframe tbody tr th {\n",
       "        vertical-align: top;\n",
       "    }\n",
       "\n",
       "    .dataframe thead th {\n",
       "        text-align: right;\n",
       "    }\n",
       "</style>\n",
       "<table border=\"1\" class=\"dataframe\">\n",
       "  <thead>\n",
       "    <tr style=\"text-align: right;\">\n",
       "      <th></th>\n",
       "      <th>Model Name</th>\n",
       "      <th>Mean_Absolute_Error_MAE</th>\n",
       "      <th>Adj_R_Square</th>\n",
       "      <th>Root_Mean_Squared_Error_RMSE</th>\n",
       "      <th>Mean_Absolute_Percentage_Error_MAPE</th>\n",
       "      <th>Mean_Squared_Error_MSE</th>\n",
       "      <th>Root_Mean_Squared_Log_Error_RMSLE</th>\n",
       "      <th>R2_score</th>\n",
       "    </tr>\n",
       "  </thead>\n",
       "  <tbody>\n",
       "  </tbody>\n",
       "</table>\n",
       "</div>"
      ],
      "text/plain": [
       "Empty DataFrame\n",
       "Columns: [Model Name, Mean_Absolute_Error_MAE, Adj_R_Square, Root_Mean_Squared_Error_RMSE, Mean_Absolute_Percentage_Error_MAPE, Mean_Squared_Error_MSE, Root_Mean_Squared_Log_Error_RMSLE, R2_score]\n",
       "Index: []"
      ]
     },
     "execution_count": 21,
     "metadata": {},
     "output_type": "execute_result"
    }
   ],
   "source": [
    "# Load the result dataset\n",
    "\n",
    "RGRResults = pd.read_csv(r\"C:\\Users\\badda\\Downloads\\RGRResults.csv\", header=0)\n",
    "\n",
    "RGRResults.head()"
   ]
  },
  {
   "cell_type": "code",
   "execution_count": null,
   "id": "d2aa7fba",
   "metadata": {},
   "outputs": [],
   "source": []
  }
 ],
 "metadata": {
  "kernelspec": {
   "display_name": "Python 3 (ipykernel)",
   "language": "python",
   "name": "python3"
  },
  "language_info": {
   "codemirror_mode": {
    "name": "ipython",
    "version": 3
   },
   "file_extension": ".py",
   "mimetype": "text/x-python",
   "name": "python",
   "nbconvert_exporter": "python",
   "pygments_lexer": "ipython3",
   "version": "3.11.5"
  }
 },
 "nbformat": 4,
 "nbformat_minor": 5
}
